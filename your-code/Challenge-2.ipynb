{
 "cells": [
  {
   "cell_type": "code",
   "execution_count": 1,
   "metadata": {
    "ExecuteTime": {
     "end_time": "2019-03-17T21:01:13.983570Z",
     "start_time": "2019-03-17T21:01:13.592783Z"
    }
   },
   "outputs": [],
   "source": [
    "import pandas as pd \n",
    "import requests\n",
    "import json"
   ]
  },
  {
   "cell_type": "markdown",
   "metadata": {},
   "source": [
    "There's no main repo, so I choose lab-numpy for the exercise. "
   ]
  },
  {
   "cell_type": "code",
   "execution_count": 5,
   "metadata": {
    "ExecuteTime": {
     "end_time": "2019-03-17T21:03:21.597924Z",
     "start_time": "2019-03-17T21:03:20.887626Z"
    }
   },
   "outputs": [],
   "source": [
    "url = 'https://api.github.com/repos/ta-data-bcn/lab-numpy/issues?state=open'\n",
    "\n",
    "url2 = 'https://api.github.com/repos/ta-data-bcn/lab-numpy/forks'\n",
    "\n",
    "url3 = 'https://api.github.com/repos/ta-data-bcn/lab-numpy/commits'\n",
    "    \n",
    "response = requests.get(url3).json()\n"
   ]
  },
  {
   "cell_type": "code",
   "execution_count": 6,
   "metadata": {
    "ExecuteTime": {
     "end_time": "2019-03-17T21:03:22.211890Z",
     "start_time": "2019-03-17T21:03:22.203151Z"
    }
   },
   "outputs": [
    {
     "data": {
      "text/plain": [
       "[{'sha': '5e612c5a5c5bd028ce7d0767775eb8437f569513',\n",
       "  'node_id': 'MDY6Q29tbWl0MTY5MTA5OTI0OjVlNjEyYzVhNWM1YmQwMjhjZTdkMDc2Nzc3NWViODQzN2Y1Njk1MTM=',\n",
       "  'commit': {'author': {'name': 'Claudia',\n",
       "    'email': 'claudia.rivera@ironhack.com',\n",
       "    'date': '2019-02-27T18:28:32Z'},\n",
       "   'committer': {'name': 'Claudia',\n",
       "    'email': 'claudia.rivera@ironhack.com',\n",
       "    'date': '2019-02-27T18:28:32Z'},\n",
       "   'message': 'turn into notebook',\n",
       "   'tree': {'sha': '435ba1058c853ebffd31632126c08d93bca82b42',\n",
       "    'url': 'https://api.github.com/repos/ta-data-bcn/lab-numpy/git/trees/435ba1058c853ebffd31632126c08d93bca82b42'},\n",
       "   'url': 'https://api.github.com/repos/ta-data-bcn/lab-numpy/git/commits/5e612c5a5c5bd028ce7d0767775eb8437f569513',\n",
       "   'comment_count': 0,\n",
       "   'verification': {'verified': False,\n",
       "    'reason': 'unsigned',\n",
       "    'signature': None,\n",
       "    'payload': None}},\n",
       "  'url': 'https://api.github.com/repos/ta-data-bcn/lab-numpy/commits/5e612c5a5c5bd028ce7d0767775eb8437f569513',\n",
       "  'html_url': 'https://github.com/ta-data-bcn/lab-numpy/commit/5e612c5a5c5bd028ce7d0767775eb8437f569513',\n",
       "  'comments_url': 'https://api.github.com/repos/ta-data-bcn/lab-numpy/commits/5e612c5a5c5bd028ce7d0767775eb8437f569513/comments',\n",
       "  'author': {'login': 'data-claud',\n",
       "   'id': 47329256,\n",
       "   'node_id': 'MDQ6VXNlcjQ3MzI5MjU2',\n",
       "   'avatar_url': 'https://avatars0.githubusercontent.com/u/47329256?v=4',\n",
       "   'gravatar_id': '',\n",
       "   'url': 'https://api.github.com/users/data-claud',\n",
       "   'html_url': 'https://github.com/data-claud',\n",
       "   'followers_url': 'https://api.github.com/users/data-claud/followers',\n",
       "   'following_url': 'https://api.github.com/users/data-claud/following{/other_user}',\n",
       "   'gists_url': 'https://api.github.com/users/data-claud/gists{/gist_id}',\n",
       "   'starred_url': 'https://api.github.com/users/data-claud/starred{/owner}{/repo}',\n",
       "   'subscriptions_url': 'https://api.github.com/users/data-claud/subscriptions',\n",
       "   'organizations_url': 'https://api.github.com/users/data-claud/orgs',\n",
       "   'repos_url': 'https://api.github.com/users/data-claud/repos',\n",
       "   'events_url': 'https://api.github.com/users/data-claud/events{/privacy}',\n",
       "   'received_events_url': 'https://api.github.com/users/data-claud/received_events',\n",
       "   'type': 'User',\n",
       "   'site_admin': False},\n",
       "  'committer': {'login': 'data-claud',\n",
       "   'id': 47329256,\n",
       "   'node_id': 'MDQ6VXNlcjQ3MzI5MjU2',\n",
       "   'avatar_url': 'https://avatars0.githubusercontent.com/u/47329256?v=4',\n",
       "   'gravatar_id': '',\n",
       "   'url': 'https://api.github.com/users/data-claud',\n",
       "   'html_url': 'https://github.com/data-claud',\n",
       "   'followers_url': 'https://api.github.com/users/data-claud/followers',\n",
       "   'following_url': 'https://api.github.com/users/data-claud/following{/other_user}',\n",
       "   'gists_url': 'https://api.github.com/users/data-claud/gists{/gist_id}',\n",
       "   'starred_url': 'https://api.github.com/users/data-claud/starred{/owner}{/repo}',\n",
       "   'subscriptions_url': 'https://api.github.com/users/data-claud/subscriptions',\n",
       "   'organizations_url': 'https://api.github.com/users/data-claud/orgs',\n",
       "   'repos_url': 'https://api.github.com/users/data-claud/repos',\n",
       "   'events_url': 'https://api.github.com/users/data-claud/events{/privacy}',\n",
       "   'received_events_url': 'https://api.github.com/users/data-claud/received_events',\n",
       "   'type': 'User',\n",
       "   'site_admin': False},\n",
       "  'parents': [{'sha': 'e8d216a15f5d36b2a9060a26d76ad6074c3d2876',\n",
       "    'url': 'https://api.github.com/repos/ta-data-bcn/lab-numpy/commits/e8d216a15f5d36b2a9060a26d76ad6074c3d2876',\n",
       "    'html_url': 'https://github.com/ta-data-bcn/lab-numpy/commit/e8d216a15f5d36b2a9060a26d76ad6074c3d2876'}]},\n",
       " {'sha': 'e8d216a15f5d36b2a9060a26d76ad6074c3d2876',\n",
       "  'node_id': 'MDY6Q29tbWl0MTY5MTA5OTI0OmU4ZDIxNmExNWY1ZDM2YjJhOTA2MGEyNmQ3NmFkNjA3NGMzZDI4NzY=',\n",
       "  'commit': {'author': {'name': 'Eva Panizo',\n",
       "    'email': 'panizo.eva@gmail.com',\n",
       "    'date': '2019-02-05T08:41:22Z'},\n",
       "   'committer': {'name': 'Eva Panizo',\n",
       "    'email': 'panizo.eva@gmail.com',\n",
       "    'date': '2019-02-05T08:41:22Z'},\n",
       "   'message': 'Update -gitignore',\n",
       "   'tree': {'sha': '96056068683a49e8dca6688a5516f9d567488fba',\n",
       "    'url': 'https://api.github.com/repos/ta-data-bcn/lab-numpy/git/trees/96056068683a49e8dca6688a5516f9d567488fba'},\n",
       "   'url': 'https://api.github.com/repos/ta-data-bcn/lab-numpy/git/commits/e8d216a15f5d36b2a9060a26d76ad6074c3d2876',\n",
       "   'comment_count': 0,\n",
       "   'verification': {'verified': False,\n",
       "    'reason': 'unsigned',\n",
       "    'signature': None,\n",
       "    'payload': None}},\n",
       "  'url': 'https://api.github.com/repos/ta-data-bcn/lab-numpy/commits/e8d216a15f5d36b2a9060a26d76ad6074c3d2876',\n",
       "  'html_url': 'https://github.com/ta-data-bcn/lab-numpy/commit/e8d216a15f5d36b2a9060a26d76ad6074c3d2876',\n",
       "  'comments_url': 'https://api.github.com/repos/ta-data-bcn/lab-numpy/commits/e8d216a15f5d36b2a9060a26d76ad6074c3d2876/comments',\n",
       "  'author': {'login': 'evapanizo',\n",
       "   'id': 9594137,\n",
       "   'node_id': 'MDQ6VXNlcjk1OTQxMzc=',\n",
       "   'avatar_url': 'https://avatars1.githubusercontent.com/u/9594137?v=4',\n",
       "   'gravatar_id': '',\n",
       "   'url': 'https://api.github.com/users/evapanizo',\n",
       "   'html_url': 'https://github.com/evapanizo',\n",
       "   'followers_url': 'https://api.github.com/users/evapanizo/followers',\n",
       "   'following_url': 'https://api.github.com/users/evapanizo/following{/other_user}',\n",
       "   'gists_url': 'https://api.github.com/users/evapanizo/gists{/gist_id}',\n",
       "   'starred_url': 'https://api.github.com/users/evapanizo/starred{/owner}{/repo}',\n",
       "   'subscriptions_url': 'https://api.github.com/users/evapanizo/subscriptions',\n",
       "   'organizations_url': 'https://api.github.com/users/evapanizo/orgs',\n",
       "   'repos_url': 'https://api.github.com/users/evapanizo/repos',\n",
       "   'events_url': 'https://api.github.com/users/evapanizo/events{/privacy}',\n",
       "   'received_events_url': 'https://api.github.com/users/evapanizo/received_events',\n",
       "   'type': 'User',\n",
       "   'site_admin': False},\n",
       "  'committer': {'login': 'evapanizo',\n",
       "   'id': 9594137,\n",
       "   'node_id': 'MDQ6VXNlcjk1OTQxMzc=',\n",
       "   'avatar_url': 'https://avatars1.githubusercontent.com/u/9594137?v=4',\n",
       "   'gravatar_id': '',\n",
       "   'url': 'https://api.github.com/users/evapanizo',\n",
       "   'html_url': 'https://github.com/evapanizo',\n",
       "   'followers_url': 'https://api.github.com/users/evapanizo/followers',\n",
       "   'following_url': 'https://api.github.com/users/evapanizo/following{/other_user}',\n",
       "   'gists_url': 'https://api.github.com/users/evapanizo/gists{/gist_id}',\n",
       "   'starred_url': 'https://api.github.com/users/evapanizo/starred{/owner}{/repo}',\n",
       "   'subscriptions_url': 'https://api.github.com/users/evapanizo/subscriptions',\n",
       "   'organizations_url': 'https://api.github.com/users/evapanizo/orgs',\n",
       "   'repos_url': 'https://api.github.com/users/evapanizo/repos',\n",
       "   'events_url': 'https://api.github.com/users/evapanizo/events{/privacy}',\n",
       "   'received_events_url': 'https://api.github.com/users/evapanizo/received_events',\n",
       "   'type': 'User',\n",
       "   'site_admin': False},\n",
       "  'parents': [{'sha': 'b362cdfc328a332d4956d88dbda5a383313bf56e',\n",
       "    'url': 'https://api.github.com/repos/ta-data-bcn/lab-numpy/commits/b362cdfc328a332d4956d88dbda5a383313bf56e',\n",
       "    'html_url': 'https://github.com/ta-data-bcn/lab-numpy/commit/b362cdfc328a332d4956d88dbda5a383313bf56e'}]},\n",
       " {'sha': 'b362cdfc328a332d4956d88dbda5a383313bf56e',\n",
       "  'node_id': 'MDY6Q29tbWl0MTY5MTA5OTI0OmIzNjJjZGZjMzI4YTMzMmQ0OTU2ZDg4ZGJkYTVhMzgzMzEzYmY1NmU=',\n",
       "  'commit': {'author': {'name': 'Eva Panizo',\n",
       "    'email': 'panizo.eva@gmail.com',\n",
       "    'date': '2019-02-04T16:58:24Z'},\n",
       "   'committer': {'name': 'Eva Panizo',\n",
       "    'email': 'panizo.eva@gmail.com',\n",
       "    'date': '2019-02-04T16:58:24Z'},\n",
       "   'message': 'first commit',\n",
       "   'tree': {'sha': 'f8a38cc6e086eb46010f75b2414fd4396e988938',\n",
       "    'url': 'https://api.github.com/repos/ta-data-bcn/lab-numpy/git/trees/f8a38cc6e086eb46010f75b2414fd4396e988938'},\n",
       "   'url': 'https://api.github.com/repos/ta-data-bcn/lab-numpy/git/commits/b362cdfc328a332d4956d88dbda5a383313bf56e',\n",
       "   'comment_count': 0,\n",
       "   'verification': {'verified': False,\n",
       "    'reason': 'unsigned',\n",
       "    'signature': None,\n",
       "    'payload': None}},\n",
       "  'url': 'https://api.github.com/repos/ta-data-bcn/lab-numpy/commits/b362cdfc328a332d4956d88dbda5a383313bf56e',\n",
       "  'html_url': 'https://github.com/ta-data-bcn/lab-numpy/commit/b362cdfc328a332d4956d88dbda5a383313bf56e',\n",
       "  'comments_url': 'https://api.github.com/repos/ta-data-bcn/lab-numpy/commits/b362cdfc328a332d4956d88dbda5a383313bf56e/comments',\n",
       "  'author': {'login': 'evapanizo',\n",
       "   'id': 9594137,\n",
       "   'node_id': 'MDQ6VXNlcjk1OTQxMzc=',\n",
       "   'avatar_url': 'https://avatars1.githubusercontent.com/u/9594137?v=4',\n",
       "   'gravatar_id': '',\n",
       "   'url': 'https://api.github.com/users/evapanizo',\n",
       "   'html_url': 'https://github.com/evapanizo',\n",
       "   'followers_url': 'https://api.github.com/users/evapanizo/followers',\n",
       "   'following_url': 'https://api.github.com/users/evapanizo/following{/other_user}',\n",
       "   'gists_url': 'https://api.github.com/users/evapanizo/gists{/gist_id}',\n",
       "   'starred_url': 'https://api.github.com/users/evapanizo/starred{/owner}{/repo}',\n",
       "   'subscriptions_url': 'https://api.github.com/users/evapanizo/subscriptions',\n",
       "   'organizations_url': 'https://api.github.com/users/evapanizo/orgs',\n",
       "   'repos_url': 'https://api.github.com/users/evapanizo/repos',\n",
       "   'events_url': 'https://api.github.com/users/evapanizo/events{/privacy}',\n",
       "   'received_events_url': 'https://api.github.com/users/evapanizo/received_events',\n",
       "   'type': 'User',\n",
       "   'site_admin': False},\n",
       "  'committer': {'login': 'evapanizo',\n",
       "   'id': 9594137,\n",
       "   'node_id': 'MDQ6VXNlcjk1OTQxMzc=',\n",
       "   'avatar_url': 'https://avatars1.githubusercontent.com/u/9594137?v=4',\n",
       "   'gravatar_id': '',\n",
       "   'url': 'https://api.github.com/users/evapanizo',\n",
       "   'html_url': 'https://github.com/evapanizo',\n",
       "   'followers_url': 'https://api.github.com/users/evapanizo/followers',\n",
       "   'following_url': 'https://api.github.com/users/evapanizo/following{/other_user}',\n",
       "   'gists_url': 'https://api.github.com/users/evapanizo/gists{/gist_id}',\n",
       "   'starred_url': 'https://api.github.com/users/evapanizo/starred{/owner}{/repo}',\n",
       "   'subscriptions_url': 'https://api.github.com/users/evapanizo/subscriptions',\n",
       "   'organizations_url': 'https://api.github.com/users/evapanizo/orgs',\n",
       "   'repos_url': 'https://api.github.com/users/evapanizo/repos',\n",
       "   'events_url': 'https://api.github.com/users/evapanizo/events{/privacy}',\n",
       "   'received_events_url': 'https://api.github.com/users/evapanizo/received_events',\n",
       "   'type': 'User',\n",
       "   'site_admin': False},\n",
       "  'parents': []}]"
      ]
     },
     "execution_count": 6,
     "metadata": {},
     "output_type": "execute_result"
    }
   ],
   "source": [
    "response    "
   ]
  },
  {
   "cell_type": "code",
   "execution_count": 7,
   "metadata": {
    "ExecuteTime": {
     "end_time": "2019-03-17T21:05:16.118132Z",
     "start_time": "2019-03-17T21:05:16.110137Z"
    }
   },
   "outputs": [
    {
     "name": "stdout",
     "output_type": "stream",
     "text": [
      "3\n"
     ]
    }
   ],
   "source": [
    "count = 0\n",
    "for i in response:\n",
    "    count += 1\n",
    "print(count)"
   ]
  },
  {
   "cell_type": "code",
   "execution_count": null,
   "metadata": {},
   "outputs": [],
   "source": []
  }
 ],
 "metadata": {
  "kernelspec": {
   "display_name": "Python 3",
   "language": "python",
   "name": "python3"
  },
  "language_info": {
   "codemirror_mode": {
    "name": "ipython",
    "version": 3
   },
   "file_extension": ".py",
   "mimetype": "text/x-python",
   "name": "python",
   "nbconvert_exporter": "python",
   "pygments_lexer": "ipython3",
   "version": "3.7.1"
  },
  "varInspector": {
   "cols": {
    "lenName": 16,
    "lenType": 16,
    "lenVar": 40
   },
   "kernels_config": {
    "python": {
     "delete_cmd_postfix": "",
     "delete_cmd_prefix": "del ",
     "library": "var_list.py",
     "varRefreshCmd": "print(var_dic_list())"
    },
    "r": {
     "delete_cmd_postfix": ") ",
     "delete_cmd_prefix": "rm(",
     "library": "var_list.r",
     "varRefreshCmd": "cat(var_dic_list()) "
    }
   },
   "types_to_exclude": [
    "module",
    "function",
    "builtin_function_or_method",
    "instance",
    "_Feature"
   ],
   "window_display": false
  }
 },
 "nbformat": 4,
 "nbformat_minor": 2
}
